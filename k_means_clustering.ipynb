{
  "metadata": {
    "kernelspec": {
      "name": "ir",
      "display_name": "R",
      "language": "R"
    },
    "language_info": {
      "name": "R",
      "codemirror_mode": "r",
      "pygments_lexer": "r",
      "mimetype": "text/x-r-source",
      "file_extension": ".r",
      "version": "4.0.5"
    },
    "colab": {
      "name": "k-means-clustering.ipynb",
      "provenance": [],
      "include_colab_link": true
    }
  },
  "nbformat_minor": 0,
  "nbformat": 4,
  "cells": [
    {
      "cell_type": "markdown",
      "metadata": {
        "id": "view-in-github",
        "colab_type": "text"
      },
      "source": [
        "<a href=\"https://colab.research.google.com/github/ChuquEmeka/K-Means-Clustering/blob/main/k_means_clustering.ipynb\" target=\"_parent\"><img src=\"https://colab.research.google.com/assets/colab-badge.svg\" alt=\"Open In Colab\"/></a>"
      ]
    },
    {
      "cell_type": "markdown",
      "source": [
        "# Using K-Means Clustering to find teen market segments.\n",
        "\n",
        "### Presented by Edeh Emeka N.\n",
        "\n",
        "**This exercise aims at helping businesses target the correct segment of the population using teens as a case study.**"
      ],
      "metadata": {
        "id": "UO0apqW9cpn7"
      }
    },
    {
      "cell_type": "code",
      "source": [
        "sns_data<-read.csv(\"snsdata.csv\")\n",
        "#This dataset represents a random sample of 30,000 U.S High School Students who had profiles on \n",
        "#SNS in 2006. The real identities of the students are not revealed."
      ],
      "metadata": {
        "execution": {
          "iopub.status.busy": "2022-01-23T09:15:07.164629Z",
          "iopub.execute_input": "2022-01-23T09:15:07.196596Z",
          "iopub.status.idle": "2022-01-23T09:15:07.544218Z"
        },
        "trusted": true,
        "id": "k54CRuxJcpoK"
      },
      "execution_count": 9,
      "outputs": []
    },
    {
      "cell_type": "code",
      "source": [
        "str(sns_data)"
      ],
      "metadata": {
        "execution": {
          "iopub.status.busy": "2022-01-23T09:15:12.926360Z",
          "iopub.execute_input": "2022-01-23T09:15:12.928249Z",
          "iopub.status.idle": "2022-01-23T09:15:12.981900Z"
        },
        "trusted": true,
        "colab": {
          "base_uri": "https://localhost:8080/"
        },
        "id": "_gpMnMOLcpoU",
        "outputId": "da570f21-6822-4a8b-db1f-d848ae3a108b"
      },
      "execution_count": 10,
      "outputs": [
        {
          "output_type": "stream",
          "name": "stdout",
          "text": [
            "'data.frame':\t30000 obs. of  40 variables:\n",
            " $ gradyear    : int  2006 2006 2006 2006 2006 2006 2006 2006 2006 2006 ...\n",
            " $ gender      : chr  \"M\" \"F\" \"M\" \"F\" ...\n",
            " $ age         : num  19 18.8 18.3 18.9 19 ...\n",
            " $ friends     : int  7 0 69 0 10 142 72 17 52 39 ...\n",
            " $ basketball  : int  0 0 0 0 0 0 0 0 0 0 ...\n",
            " $ football    : int  0 1 1 0 0 0 0 0 0 0 ...\n",
            " $ soccer      : int  0 0 0 0 0 0 0 0 0 0 ...\n",
            " $ softball    : int  0 0 0 0 0 0 0 1 0 0 ...\n",
            " $ volleyball  : int  0 0 0 0 0 0 0 0 0 0 ...\n",
            " $ swimming    : int  0 0 0 0 0 0 0 0 0 0 ...\n",
            " $ cheerleading: int  0 0 0 0 0 0 0 0 0 0 ...\n",
            " $ baseball    : int  0 0 0 0 0 0 0 0 0 0 ...\n",
            " $ tennis      : int  0 0 0 0 0 0 0 0 0 0 ...\n",
            " $ sports      : int  0 0 0 0 0 0 0 0 0 0 ...\n",
            " $ cute        : int  0 1 0 1 0 0 0 0 0 1 ...\n",
            " $ sex         : int  0 0 0 0 1 1 0 2 0 0 ...\n",
            " $ sexy        : int  0 0 0 0 0 0 0 1 0 0 ...\n",
            " $ hot         : int  0 0 0 0 0 0 0 0 0 1 ...\n",
            " $ kissed      : int  0 0 0 0 5 0 0 0 0 0 ...\n",
            " $ dance       : int  1 0 0 0 1 0 0 0 0 0 ...\n",
            " $ band        : int  0 0 2 0 1 0 1 0 0 0 ...\n",
            " $ marching    : int  0 0 0 0 0 1 1 0 0 0 ...\n",
            " $ music       : int  0 2 1 0 3 2 0 1 0 1 ...\n",
            " $ rock        : int  0 2 0 1 0 0 0 1 0 1 ...\n",
            " $ god         : int  0 1 0 0 1 0 0 0 0 6 ...\n",
            " $ church      : int  0 0 0 0 0 0 0 0 0 0 ...\n",
            " $ jesus       : int  0 0 0 0 0 0 0 0 0 2 ...\n",
            " $ bible       : int  0 0 0 0 0 0 0 0 0 0 ...\n",
            " $ hair        : int  0 6 0 0 1 0 0 0 0 1 ...\n",
            " $ dress       : int  0 4 0 0 0 1 0 0 0 0 ...\n",
            " $ blonde      : int  0 0 0 0 0 0 0 0 0 0 ...\n",
            " $ mall        : int  0 1 0 0 0 0 2 0 0 0 ...\n",
            " $ shopping    : int  0 0 0 0 2 1 0 0 0 1 ...\n",
            " $ clothes     : int  0 0 0 0 0 0 0 0 0 0 ...\n",
            " $ hollister   : int  0 0 0 0 0 0 2 0 0 0 ...\n",
            " $ abercrombie : int  0 0 0 0 0 0 0 0 0 0 ...\n",
            " $ die         : int  0 0 0 0 0 0 0 0 0 0 ...\n",
            " $ death       : int  0 0 1 0 0 0 0 0 0 0 ...\n",
            " $ drunk       : int  0 0 0 0 1 1 0 0 0 0 ...\n",
            " $ drugs       : int  0 0 0 0 1 0 0 0 0 0 ...\n"
          ]
        }
      ]
    },
    {
      "cell_type": "code",
      "source": [
        "#i will determine the number of missing values in each of the columns\n",
        " sapply(sns_data, function(x) sum(is.na (x)))"
      ],
      "metadata": {
        "execution": {
          "iopub.status.busy": "2022-01-23T09:15:17.664021Z",
          "iopub.execute_input": "2022-01-23T09:15:17.665935Z",
          "iopub.status.idle": "2022-01-23T09:15:17.700914Z"
        },
        "trusted": true,
        "colab": {
          "base_uri": "https://localhost:8080/",
          "height": 104
        },
        "id": "EF8I3M0qcpoW",
        "outputId": "9f881866-4991-4d43-82ba-563ed0fa25a0"
      },
      "execution_count": 11,
      "outputs": [
        {
          "output_type": "display_data",
          "data": {
            "text/plain": [
              "    gradyear       gender          age      friends   basketball     football \n",
              "           0         2724         5086            0            0            0 \n",
              "      soccer     softball   volleyball     swimming cheerleading     baseball \n",
              "           0            0            0            0            0            0 \n",
              "      tennis       sports         cute          sex         sexy          hot \n",
              "           0            0            0            0            0            0 \n",
              "      kissed        dance         band     marching        music         rock \n",
              "           0            0            0            0            0            0 \n",
              "         god       church        jesus        bible         hair        dress \n",
              "           0            0            0            0            0            0 \n",
              "      blonde         mall     shopping      clothes    hollister  abercrombie \n",
              "           0            0            0            0            0            0 \n",
              "         die        death        drunk        drugs \n",
              "           0            0            0            0 "
            ],
            "text/latex": "\\begin{description*}\n\\item[gradyear] 0\n\\item[gender] 2724\n\\item[age] 5086\n\\item[friends] 0\n\\item[basketball] 0\n\\item[football] 0\n\\item[soccer] 0\n\\item[softball] 0\n\\item[volleyball] 0\n\\item[swimming] 0\n\\item[cheerleading] 0\n\\item[baseball] 0\n\\item[tennis] 0\n\\item[sports] 0\n\\item[cute] 0\n\\item[sex] 0\n\\item[sexy] 0\n\\item[hot] 0\n\\item[kissed] 0\n\\item[dance] 0\n\\item[band] 0\n\\item[marching] 0\n\\item[music] 0\n\\item[rock] 0\n\\item[god] 0\n\\item[church] 0\n\\item[jesus] 0\n\\item[bible] 0\n\\item[hair] 0\n\\item[dress] 0\n\\item[blonde] 0\n\\item[mall] 0\n\\item[shopping] 0\n\\item[clothes] 0\n\\item[hollister] 0\n\\item[abercrombie] 0\n\\item[die] 0\n\\item[death] 0\n\\item[drunk] 0\n\\item[drugs] 0\n\\end{description*}\n",
            "text/markdown": "gradyear\n:   0gender\n:   2724age\n:   5086friends\n:   0basketball\n:   0football\n:   0soccer\n:   0softball\n:   0volleyball\n:   0swimming\n:   0cheerleading\n:   0baseball\n:   0tennis\n:   0sports\n:   0cute\n:   0sex\n:   0sexy\n:   0hot\n:   0kissed\n:   0dance\n:   0band\n:   0marching\n:   0music\n:   0rock\n:   0god\n:   0church\n:   0jesus\n:   0bible\n:   0hair\n:   0dress\n:   0blonde\n:   0mall\n:   0shopping\n:   0clothes\n:   0hollister\n:   0abercrombie\n:   0die\n:   0death\n:   0drunk\n:   0drugs\n:   0\n\n",
            "text/html": [
              "<style>\n",
              ".dl-inline {width: auto; margin:0; padding: 0}\n",
              ".dl-inline>dt, .dl-inline>dd {float: none; width: auto; display: inline-block}\n",
              ".dl-inline>dt::after {content: \":\\0020\"; padding-right: .5ex}\n",
              ".dl-inline>dt:not(:first-of-type) {padding-left: .5ex}\n",
              "</style><dl class=dl-inline><dt>gradyear</dt><dd>0</dd><dt>gender</dt><dd>2724</dd><dt>age</dt><dd>5086</dd><dt>friends</dt><dd>0</dd><dt>basketball</dt><dd>0</dd><dt>football</dt><dd>0</dd><dt>soccer</dt><dd>0</dd><dt>softball</dt><dd>0</dd><dt>volleyball</dt><dd>0</dd><dt>swimming</dt><dd>0</dd><dt>cheerleading</dt><dd>0</dd><dt>baseball</dt><dd>0</dd><dt>tennis</dt><dd>0</dd><dt>sports</dt><dd>0</dd><dt>cute</dt><dd>0</dd><dt>sex</dt><dd>0</dd><dt>sexy</dt><dd>0</dd><dt>hot</dt><dd>0</dd><dt>kissed</dt><dd>0</dd><dt>dance</dt><dd>0</dd><dt>band</dt><dd>0</dd><dt>marching</dt><dd>0</dd><dt>music</dt><dd>0</dd><dt>rock</dt><dd>0</dd><dt>god</dt><dd>0</dd><dt>church</dt><dd>0</dd><dt>jesus</dt><dd>0</dd><dt>bible</dt><dd>0</dd><dt>hair</dt><dd>0</dd><dt>dress</dt><dd>0</dd><dt>blonde</dt><dd>0</dd><dt>mall</dt><dd>0</dd><dt>shopping</dt><dd>0</dd><dt>clothes</dt><dd>0</dd><dt>hollister</dt><dd>0</dd><dt>abercrombie</dt><dd>0</dd><dt>die</dt><dd>0</dd><dt>death</dt><dd>0</dd><dt>drunk</dt><dd>0</dd><dt>drugs</dt><dd>0</dd></dl>\n"
            ]
          },
          "metadata": {}
        }
      ]
    },
    {
      "cell_type": "markdown",
      "source": [
        "**From the above output, the gender column has 2724 missing values, age column has 5086 missing values and the rest columns have no missing values.**"
      ],
      "metadata": {
        "id": "21RduzfBcpoZ"
      }
    },
    {
      "cell_type": "code",
      "source": [
        "table(sns_data$gender, useNA =\"ifany\")"
      ],
      "metadata": {
        "execution": {
          "iopub.status.busy": "2022-01-23T09:15:42.023010Z",
          "iopub.execute_input": "2022-01-23T09:15:42.024849Z",
          "iopub.status.idle": "2022-01-23T09:15:42.044760Z"
        },
        "trusted": true,
        "colab": {
          "base_uri": "https://localhost:8080/",
          "height": 69
        },
        "id": "ju5Q-30Pcpoc",
        "outputId": "4cee5b99-165a-4669-83dd-f9760cfe70d7"
      },
      "execution_count": 12,
      "outputs": [
        {
          "output_type": "display_data",
          "data": {
            "text/plain": [
              "\n",
              "    F     M  <NA> \n",
              "22054  5222  2724 "
            ]
          },
          "metadata": {}
        }
      ]
    },
    {
      "cell_type": "code",
      "source": [
        "#I will check for outliers in the age variable\n",
        "summary(sns_data$age)"
      ],
      "metadata": {
        "execution": {
          "iopub.status.busy": "2022-01-23T09:15:46.213606Z",
          "iopub.execute_input": "2022-01-23T09:15:46.215455Z",
          "iopub.status.idle": "2022-01-23T09:15:46.236995Z"
        },
        "trusted": true,
        "colab": {
          "base_uri": "https://localhost:8080/",
          "height": 52
        },
        "id": "CvyU1kpFcpof",
        "outputId": "71924a3b-99cd-4cfd-dcc3-52495f4f229a"
      },
      "execution_count": 13,
      "outputs": [
        {
          "output_type": "display_data",
          "data": {
            "text/plain": [
              "   Min. 1st Qu.  Median    Mean 3rd Qu.    Max.    NA's \n",
              "  3.086  16.312  17.287  17.994  18.259 106.927    5086 "
            ]
          },
          "metadata": {}
        }
      ]
    },
    {
      "cell_type": "markdown",
      "source": [
        "**I will drop ages that fall outside the range of 13 and 20 years**"
      ],
      "metadata": {
        "id": "-3Ssr6jBcpoi"
      }
    },
    {
      "cell_type": "code",
      "source": [
        "sns_data$age<-ifelse(sns_data$age>=13 & sns_data$age < 20, sns_data$age, NA)"
      ],
      "metadata": {
        "execution": {
          "iopub.status.busy": "2022-01-23T09:15:50.003043Z",
          "iopub.execute_input": "2022-01-23T09:15:50.004901Z",
          "iopub.status.idle": "2022-01-23T09:15:50.019737Z"
        },
        "trusted": true,
        "id": "9vetiNhWcpol"
      },
      "execution_count": 14,
      "outputs": []
    },
    {
      "cell_type": "code",
      "source": [
        "summary(sns_data$age)"
      ],
      "metadata": {
        "execution": {
          "iopub.status.busy": "2022-01-23T09:15:55.636258Z",
          "iopub.execute_input": "2022-01-23T09:15:55.637832Z",
          "iopub.status.idle": "2022-01-23T09:15:55.653907Z"
        },
        "trusted": true,
        "colab": {
          "base_uri": "https://localhost:8080/",
          "height": 52
        },
        "id": "HieuUIfhcpou",
        "outputId": "fdd75ad0-6ac8-4b84-8d9d-067e86926678"
      },
      "execution_count": 15,
      "outputs": [
        {
          "output_type": "display_data",
          "data": {
            "text/plain": [
              "   Min. 1st Qu.  Median    Mean 3rd Qu.    Max.    NA's \n",
              "  13.03   16.30   17.27   17.25   18.22   20.00    5523 "
            ]
          },
          "metadata": {}
        }
      ]
    },
    {
      "cell_type": "markdown",
      "source": [
        "**Now the ages fall within an ideal High School teenager Age**"
      ],
      "metadata": {
        "id": "7_tYs88Kcpox"
      }
    },
    {
      "cell_type": "code",
      "source": [
        "#creating dummy variables for females and unknown\n",
        "sns_data$female<-ifelse(sns_data$gender==\"F\" & !is.na(sns_data$gender),1,0)\n",
        "sns_data$no_gender<-ifelse(is.na(sns_data$gender),1,0)"
      ],
      "metadata": {
        "execution": {
          "iopub.status.busy": "2022-01-23T09:16:02.072104Z",
          "iopub.execute_input": "2022-01-23T09:16:02.073646Z",
          "iopub.status.idle": "2022-01-23T09:16:02.089382Z"
        },
        "trusted": true,
        "id": "q8ZEDj55cpoz"
      },
      "execution_count": 16,
      "outputs": []
    },
    {
      "cell_type": "code",
      "source": [
        "no_gender<-table(sns_data$no_gender, useNA=\"ifany\")"
      ],
      "metadata": {
        "execution": {
          "iopub.status.busy": "2022-01-23T09:16:07.090057Z",
          "iopub.execute_input": "2022-01-23T09:16:07.091934Z",
          "iopub.status.idle": "2022-01-23T09:16:07.128856Z"
        },
        "trusted": true,
        "id": "zNn79h94cpo1"
      },
      "execution_count": 17,
      "outputs": []
    },
    {
      "cell_type": "code",
      "source": [
        "no_gender"
      ],
      "metadata": {
        "execution": {
          "iopub.status.busy": "2022-01-23T09:16:10.269694Z",
          "iopub.execute_input": "2022-01-23T09:16:10.271543Z",
          "iopub.status.idle": "2022-01-23T09:16:10.290868Z"
        },
        "trusted": true,
        "colab": {
          "base_uri": "https://localhost:8080/",
          "height": 69
        },
        "id": "4coyuhfacpo3",
        "outputId": "cb90c59a-ce6f-4c66-8e0f-d6da9d612575"
      },
      "execution_count": 18,
      "outputs": [
        {
          "output_type": "display_data",
          "data": {
            "text/plain": [
              "\n",
              "    0     1 \n",
              "27276  2724 "
            ]
          },
          "metadata": {}
        }
      ]
    },
    {
      "cell_type": "code",
      "source": [
        "plot(no_gender)"
      ],
      "metadata": {
        "execution": {
          "iopub.status.busy": "2022-01-23T09:16:14.831855Z",
          "iopub.execute_input": "2022-01-23T09:16:14.833785Z",
          "iopub.status.idle": "2022-01-23T09:16:15.062689Z"
        },
        "trusted": true,
        "colab": {
          "base_uri": "https://localhost:8080/",
          "height": 437
        },
        "id": "CXimHaf0cpo5",
        "outputId": "ddbcec2c-2884-4bb6-e878-94c0ea3df0ff"
      },
      "execution_count": 19,
      "outputs": [
        {
          "output_type": "display_data",
          "data": {
            "image/png": "[encoded data removed]",
            "text/plain": [
              "plot without title"
            ]
          },
          "metadata": {
            "image/png": {
              "width": 420,
              "height": 420
            }
          }
        }
      ]
    },
    {
      "cell_type": "code",
      "source": [
        "table(sns_data$female, useNA=\"ifany\")"
      ],
      "metadata": {
        "execution": {
          "iopub.status.busy": "2022-01-23T09:16:19.770766Z",
          "iopub.execute_input": "2022-01-23T09:16:19.772638Z",
          "iopub.status.idle": "2022-01-23T09:16:19.816816Z"
        },
        "trusted": true,
        "colab": {
          "base_uri": "https://localhost:8080/",
          "height": 69
        },
        "id": "N7BPg2F_cpo6",
        "outputId": "02ccf18b-ef43-40d8-8e14-a9002b7b417a"
      },
      "execution_count": 20,
      "outputs": [
        {
          "output_type": "display_data",
          "data": {
            "text/plain": [
              "\n",
              "    0     1 \n",
              " 7946 22054 "
            ]
          },
          "metadata": {}
        }
      ]
    },
    {
      "cell_type": "code",
      "source": [
        "#determining the average age for each graduating year\n",
        "avg_age<- ave(sns_data$age, sns_data$gradyear, FUN = function(x) mean(x, na.rm = TRUE))"
      ],
      "metadata": {
        "execution": {
          "iopub.status.busy": "2022-01-23T09:16:22.927071Z",
          "iopub.execute_input": "2022-01-23T09:16:22.928745Z",
          "iopub.status.idle": "2022-01-23T09:16:22.947155Z"
        },
        "trusted": true,
        "id": "8xNFBEubcpo7"
      },
      "execution_count": 21,
      "outputs": []
    },
    {
      "cell_type": "code",
      "source": [
        "#replacing the age missing values with the average age of each graduating year\n",
        "replace_missing_value<-ifelse(is.na(sns_data$age),avg_age, sns_data$age)"
      ],
      "metadata": {
        "execution": {
          "iopub.status.busy": "2022-01-23T09:16:35.145660Z",
          "iopub.execute_input": "2022-01-23T09:16:35.147562Z",
          "iopub.status.idle": "2022-01-23T09:16:35.168660Z"
        },
        "trusted": true,
        "id": "ilE4mlTAcpo8"
      },
      "execution_count": 22,
      "outputs": []
    },
    {
      "cell_type": "code",
      "source": [
        "summary(replace_missing_value)"
      ],
      "metadata": {
        "execution": {
          "iopub.status.busy": "2022-01-23T09:16:46.265649Z",
          "iopub.execute_input": "2022-01-23T09:16:46.267492Z",
          "iopub.status.idle": "2022-01-23T09:16:46.286711Z"
        },
        "trusted": true,
        "colab": {
          "base_uri": "https://localhost:8080/",
          "height": 52
        },
        "id": "Fya9GtSvcpo9",
        "outputId": "665ad162-3f41-4fea-db07-8c62970a8159"
      },
      "execution_count": 23,
      "outputs": [
        {
          "output_type": "display_data",
          "data": {
            "text/plain": [
              "   Min. 1st Qu.  Median    Mean 3rd Qu.    Max. \n",
              "  13.03   16.28   17.24   17.24   18.21   20.00 "
            ]
          },
          "metadata": {}
        }
      ]
    },
    {
      "cell_type": "code",
      "source": [
        "#replace_missing_value"
      ],
      "metadata": {
        "execution": {
          "iopub.status.busy": "2022-01-23T09:18:14.630555Z",
          "iopub.execute_input": "2022-01-23T09:18:14.632814Z",
          "iopub.status.idle": "2022-01-23T09:18:14.648550Z"
        },
        "trusted": true,
        "id": "FDwXyw0wcpo-"
      },
      "execution_count": 24,
      "outputs": []
    },
    {
      "cell_type": "markdown",
      "source": [
        "# **Model Training**"
      ],
      "metadata": {
        "id": "qTaO0V3zcpo_"
      }
    },
    {
      "cell_type": "code",
      "source": [
        "interest<-sns_data[5:40] #A dataframe considering only the 36 features that represent the \n",
        "#number of times the various interests appera on the teens SNS profile."
      ],
      "metadata": {
        "execution": {
          "iopub.status.busy": "2022-01-23T09:27:58.294499Z",
          "iopub.execute_input": "2022-01-23T09:27:58.300695Z",
          "iopub.status.idle": "2022-01-23T09:27:58.313778Z"
        },
        "trusted": true,
        "id": "IowxDtiScppA"
      },
      "execution_count": 25,
      "outputs": []
    },
    {
      "cell_type": "code",
      "source": [
        "#applying z-score to standerdize the dataframe\n",
        "interest_zs<-as.data.frame(lapply(interest, scale))"
      ],
      "metadata": {
        "execution": {
          "iopub.status.busy": "2022-01-23T09:28:00.609695Z",
          "iopub.execute_input": "2022-01-23T09:28:00.611621Z",
          "iopub.status.idle": "2022-01-23T09:28:00.682248Z"
        },
        "trusted": true,
        "id": "ILux-QULcppB"
      },
      "execution_count": 26,
      "outputs": []
    },
    {
      "cell_type": "code",
      "source": [
        "#using set.seed to initialize random number generator to a specific sequence\n",
        "set.seed(2468)"
      ],
      "metadata": {
        "execution": {
          "iopub.status.busy": "2022-01-23T09:30:39.544201Z",
          "iopub.execute_input": "2022-01-23T09:30:39.545952Z",
          "iopub.status.idle": "2022-01-23T09:30:39.558825Z"
        },
        "trusted": true,
        "id": "_XsKn49fcppC"
      },
      "execution_count": 27,
      "outputs": []
    },
    {
      "cell_type": "code",
      "source": [
        "#i will use kmeans(), from the stats package, over the dataframe to divide the teenagers' interest\n",
        "#data into five clusters\n",
        "teen_clusters<- kmeans(interest_zs, 5)"
      ],
      "metadata": {
        "execution": {
          "iopub.status.busy": "2022-01-23T09:35:35.522521Z",
          "iopub.execute_input": "2022-01-23T09:35:35.524301Z",
          "iopub.status.idle": "2022-01-23T09:35:35.835680Z"
        },
        "trusted": true,
        "id": "9P3-U4becppC"
      },
      "execution_count": 28,
      "outputs": []
    },
    {
      "cell_type": "code",
      "source": [
        "teen_clusters$size"
      ],
      "metadata": {
        "execution": {
          "iopub.status.busy": "2022-01-23T09:36:19.890470Z",
          "iopub.execute_input": "2022-01-23T09:36:19.892098Z",
          "iopub.status.idle": "2022-01-23T09:36:20.014082Z"
        },
        "trusted": true,
        "colab": {
          "base_uri": "https://localhost:8080/",
          "height": 34
        },
        "id": "E_4-xy8JcppD",
        "outputId": "acffa98f-4078-401b-afe0-789bcb2b6e4b"
      },
      "execution_count": 29,
      "outputs": [
        {
          "output_type": "display_data",
          "data": {
            "text/plain": [
              "[1]   868  2518 20541   986  5087"
            ],
            "text/latex": "\\begin{enumerate*}\n\\item 868\n\\item 2518\n\\item 20541\n\\item 986\n\\item 5087\n\\end{enumerate*}\n",
            "text/markdown": "1. 868\n2. 2518\n3. 20541\n4. 986\n5. 5087\n\n\n",
            "text/html": [
              "<style>\n",
              ".list-inline {list-style: none; margin:0; padding: 0}\n",
              ".list-inline>li {display: inline-block}\n",
              ".list-inline>li:not(:last-child)::after {content: \"\\00b7\"; padding: 0 .5ex}\n",
              "</style>\n",
              "<ol class=list-inline><li>868</li><li>2518</li><li>20541</li><li>986</li><li>5087</li></ol>\n"
            ]
          },
          "metadata": {}
        }
      ]
    },
    {
      "cell_type": "code",
      "source": [
        "teen_clusters$centers"
      ],
      "metadata": {
        "execution": {
          "iopub.status.busy": "2022-01-23T09:37:30.529520Z",
          "iopub.execute_input": "2022-01-23T09:37:30.535123Z",
          "iopub.status.idle": "2022-01-23T09:37:30.561870Z"
        },
        "trusted": true,
        "colab": {
          "base_uri": "https://localhost:8080/",
          "height": 244
        },
        "id": "jhjfC41ScppE",
        "outputId": "d9005273-4464-4d6c-9992-a4f7cf1cc09e"
      },
      "execution_count": 30,
      "outputs": [
        {
          "output_type": "display_data",
          "data": {
            "text/plain": [
              "  basketball  football    soccer      softball    volleyball  swimming  \n",
              "1  0.14167017  0.22213753  0.10379744  0.02815663  0.16699415  0.2392009\n",
              "2  1.41139990  1.25990865  0.47154728  1.17959841  1.10315092  0.1056866\n",
              "3 -0.18471786 -0.18845642 -0.08040292 -0.13447193 -0.13077930 -0.1080758\n",
              "4  0.34332617  0.36267270  0.11427889  0.13033068  0.08696035  0.2598940\n",
              "5 -0.04346466  0.02913756  0.05139085 -0.07096261 -0.06331635  0.2929004\n",
              "  cheerleading baseball    tennis      sports      ⋯ blonde      mall       \n",
              "1  0.39745979   0.01969240  0.13637546  0.09662301 ⋯  0.06176156  0.60870187\n",
              "2  0.09999096   1.21014720  0.11607423  1.09305795 ⋯  0.04393711  0.01195874\n",
              "3 -0.10670753  -0.13851514 -0.04453516 -0.15243746 ⋯ -0.02917974 -0.19057189\n",
              "4  0.16930409   0.22070549  0.11749380  0.77073031 ⋯  0.36574690  0.61694756\n",
              "5  0.28074961  -0.08583049  0.07633162 -0.09139197 ⋯  0.01464754  0.54015363\n",
              "  shopping    clothes     hollister   abercrombie die         death      \n",
              "1  0.79614983  0.57306801  4.14729831  3.9833955   0.04833458  0.09981960\n",
              "2  0.03845691  0.01602965 -0.09038606 -0.1091567  -0.07285312 -0.03240395\n",
              "3 -0.24173679 -0.19615172 -0.15598772 -0.1485480  -0.10029465 -0.09490037\n",
              "4  0.26313226  1.20933731  0.16410482  0.2595749   1.75304512  0.93425619\n",
              "5  0.77023285  0.45192850 -0.06485679 -0.0761444   0.09300957  0.20112474\n",
              "  drunk       drugs      \n",
              "1  0.03938611  0.03849076\n",
              "2 -0.06815955 -0.09099888\n",
              "3 -0.09110576 -0.11445965\n",
              "4  1.89121987  2.85135813\n",
              "5  0.02832696 -0.05201458"
            ],
            "text/latex": "A matrix: 5 × 36 of type dbl\n\\begin{tabular}{r|lllllllllllllllllllll}\n  & basketball & football & soccer & softball & volleyball & swimming & cheerleading & baseball & tennis & sports & ⋯ & blonde & mall & shopping & clothes & hollister & abercrombie & die & death & drunk & drugs\\\\\n\\hline\n\t1 &  0.14167017 &  0.22213753 &  0.10379744 &  0.02815663 &  0.16699415 &  0.2392009 &  0.39745979 &  0.01969240 &  0.13637546 &  0.09662301 & ⋯ &  0.06176156 &  0.60870187 &  0.79614983 &  0.57306801 &  4.14729831 &  3.9833955 &  0.04833458 &  0.09981960 &  0.03938611 &  0.03849076\\\\\n\t2 &  1.41139990 &  1.25990865 &  0.47154728 &  1.17959841 &  1.10315092 &  0.1056866 &  0.09999096 &  1.21014720 &  0.11607423 &  1.09305795 & ⋯ &  0.04393711 &  0.01195874 &  0.03845691 &  0.01602965 & -0.09038606 & -0.1091567 & -0.07285312 & -0.03240395 & -0.06815955 & -0.09099888\\\\\n\t3 & -0.18471786 & -0.18845642 & -0.08040292 & -0.13447193 & -0.13077930 & -0.1080758 & -0.10670753 & -0.13851514 & -0.04453516 & -0.15243746 & ⋯ & -0.02917974 & -0.19057189 & -0.24173679 & -0.19615172 & -0.15598772 & -0.1485480 & -0.10029465 & -0.09490037 & -0.09110576 & -0.11445965\\\\\n\t4 &  0.34332617 &  0.36267270 &  0.11427889 &  0.13033068 &  0.08696035 &  0.2598940 &  0.16930409 &  0.22070549 &  0.11749380 &  0.77073031 & ⋯ &  0.36574690 &  0.61694756 &  0.26313226 &  1.20933731 &  0.16410482 &  0.2595749 &  1.75304512 &  0.93425619 &  1.89121987 &  2.85135813\\\\\n\t5 & -0.04346466 &  0.02913756 &  0.05139085 & -0.07096261 & -0.06331635 &  0.2929004 &  0.28074961 & -0.08583049 &  0.07633162 & -0.09139197 & ⋯ &  0.01464754 &  0.54015363 &  0.77023285 &  0.45192850 & -0.06485679 & -0.0761444 &  0.09300957 &  0.20112474 &  0.02832696 & -0.05201458\\\\\n\\end{tabular}\n",
            "text/markdown": "\nA matrix: 5 × 36 of type dbl\n\n| <!--/--> | basketball | football | soccer | softball | volleyball | swimming | cheerleading | baseball | tennis | sports | ⋯ | blonde | mall | shopping | clothes | hollister | abercrombie | die | death | drunk | drugs |\n|---|---|---|---|---|---|---|---|---|---|---|---|---|---|---|---|---|---|---|---|---|---|\n| 1 |  0.14167017 |  0.22213753 |  0.10379744 |  0.02815663 |  0.16699415 |  0.2392009 |  0.39745979 |  0.01969240 |  0.13637546 |  0.09662301 | ⋯ |  0.06176156 |  0.60870187 |  0.79614983 |  0.57306801 |  4.14729831 |  3.9833955 |  0.04833458 |  0.09981960 |  0.03938611 |  0.03849076 |\n| 2 |  1.41139990 |  1.25990865 |  0.47154728 |  1.17959841 |  1.10315092 |  0.1056866 |  0.09999096 |  1.21014720 |  0.11607423 |  1.09305795 | ⋯ |  0.04393711 |  0.01195874 |  0.03845691 |  0.01602965 | -0.09038606 | -0.1091567 | -0.07285312 | -0.03240395 | -0.06815955 | -0.09099888 |\n| 3 | -0.18471786 | -0.18845642 | -0.08040292 | -0.13447193 | -0.13077930 | -0.1080758 | -0.10670753 | -0.13851514 | -0.04453516 | -0.15243746 | ⋯ | -0.02917974 | -0.19057189 | -0.24173679 | -0.19615172 | -0.15598772 | -0.1485480 | -0.10029465 | -0.09490037 | -0.09110576 | -0.11445965 |\n| 4 |  0.34332617 |  0.36267270 |  0.11427889 |  0.13033068 |  0.08696035 |  0.2598940 |  0.16930409 |  0.22070549 |  0.11749380 |  0.77073031 | ⋯ |  0.36574690 |  0.61694756 |  0.26313226 |  1.20933731 |  0.16410482 |  0.2595749 |  1.75304512 |  0.93425619 |  1.89121987 |  2.85135813 |\n| 5 | -0.04346466 |  0.02913756 |  0.05139085 | -0.07096261 | -0.06331635 |  0.2929004 |  0.28074961 | -0.08583049 |  0.07633162 | -0.09139197 | ⋯ |  0.01464754 |  0.54015363 |  0.77023285 |  0.45192850 | -0.06485679 | -0.0761444 |  0.09300957 |  0.20112474 |  0.02832696 | -0.05201458 |\n\n",
            "text/html": [
              "<table class=\"dataframe\">\n",
              "<caption>A matrix: 5 × 36 of type dbl</caption>\n",
              "<thead>\n",
              "\t<tr><th></th><th scope=col>basketball</th><th scope=col>football</th><th scope=col>soccer</th><th scope=col>softball</th><th scope=col>volleyball</th><th scope=col>swimming</th><th scope=col>cheerleading</th><th scope=col>baseball</th><th scope=col>tennis</th><th scope=col>sports</th><th scope=col>⋯</th><th scope=col>blonde</th><th scope=col>mall</th><th scope=col>shopping</th><th scope=col>clothes</th><th scope=col>hollister</th><th scope=col>abercrombie</th><th scope=col>die</th><th scope=col>death</th><th scope=col>drunk</th><th scope=col>drugs</th></tr>\n",
              "</thead>\n",
              "<tbody>\n",
              "\t<tr><th scope=row>1</th><td> 0.14167017</td><td> 0.22213753</td><td> 0.10379744</td><td> 0.02815663</td><td> 0.16699415</td><td> 0.2392009</td><td> 0.39745979</td><td> 0.01969240</td><td> 0.13637546</td><td> 0.09662301</td><td>⋯</td><td> 0.06176156</td><td> 0.60870187</td><td> 0.79614983</td><td> 0.57306801</td><td> 4.14729831</td><td> 3.9833955</td><td> 0.04833458</td><td> 0.09981960</td><td> 0.03938611</td><td> 0.03849076</td></tr>\n",
              "\t<tr><th scope=row>2</th><td> 1.41139990</td><td> 1.25990865</td><td> 0.47154728</td><td> 1.17959841</td><td> 1.10315092</td><td> 0.1056866</td><td> 0.09999096</td><td> 1.21014720</td><td> 0.11607423</td><td> 1.09305795</td><td>⋯</td><td> 0.04393711</td><td> 0.01195874</td><td> 0.03845691</td><td> 0.01602965</td><td>-0.09038606</td><td>-0.1091567</td><td>-0.07285312</td><td>-0.03240395</td><td>-0.06815955</td><td>-0.09099888</td></tr>\n",
              "\t<tr><th scope=row>3</th><td>-0.18471786</td><td>-0.18845642</td><td>-0.08040292</td><td>-0.13447193</td><td>-0.13077930</td><td>-0.1080758</td><td>-0.10670753</td><td>-0.13851514</td><td>-0.04453516</td><td>-0.15243746</td><td>⋯</td><td>-0.02917974</td><td>-0.19057189</td><td>-0.24173679</td><td>-0.19615172</td><td>-0.15598772</td><td>-0.1485480</td><td>-0.10029465</td><td>-0.09490037</td><td>-0.09110576</td><td>-0.11445965</td></tr>\n",
              "\t<tr><th scope=row>4</th><td> 0.34332617</td><td> 0.36267270</td><td> 0.11427889</td><td> 0.13033068</td><td> 0.08696035</td><td> 0.2598940</td><td> 0.16930409</td><td> 0.22070549</td><td> 0.11749380</td><td> 0.77073031</td><td>⋯</td><td> 0.36574690</td><td> 0.61694756</td><td> 0.26313226</td><td> 1.20933731</td><td> 0.16410482</td><td> 0.2595749</td><td> 1.75304512</td><td> 0.93425619</td><td> 1.89121987</td><td> 2.85135813</td></tr>\n",
              "\t<tr><th scope=row>5</th><td>-0.04346466</td><td> 0.02913756</td><td> 0.05139085</td><td>-0.07096261</td><td>-0.06331635</td><td> 0.2929004</td><td> 0.28074961</td><td>-0.08583049</td><td> 0.07633162</td><td>-0.09139197</td><td>⋯</td><td> 0.01464754</td><td> 0.54015363</td><td> 0.77023285</td><td> 0.45192850</td><td>-0.06485679</td><td>-0.0761444</td><td> 0.09300957</td><td> 0.20112474</td><td> 0.02832696</td><td>-0.05201458</td></tr>\n",
              "</tbody>\n",
              "</table>\n"
            ]
          },
          "metadata": {}
        }
      ]
    },
    {
      "cell_type": "markdown",
      "source": [
        "# **Improving model performance**"
      ],
      "metadata": {
        "id": "E_bbgN5VcppE"
      }
    },
    {
      "cell_type": "code",
      "source": [
        "#applying the cluster into the full dataset\n",
        "sns_data$cluster<- teen_clusters$cluster"
      ],
      "metadata": {
        "execution": {
          "iopub.status.busy": "2022-01-23T09:44:41.684098Z",
          "iopub.execute_input": "2022-01-23T09:44:41.685835Z",
          "iopub.status.idle": "2022-01-23T09:44:41.701856Z"
        },
        "trusted": true,
        "id": "XOcfBU25cppF"
      },
      "execution_count": 31,
      "outputs": []
    },
    {
      "cell_type": "code",
      "source": [
        "#The personal information of the first 10 teens in the SNS data and their cluster assignments\n",
        "sns_data[1:10, c(\"cluster\", \"gender\", \"age\",\"friends\")]"
      ],
      "metadata": {
        "execution": {
          "iopub.status.busy": "2022-01-23T09:50:12.973985Z",
          "iopub.execute_input": "2022-01-23T09:50:12.975807Z",
          "iopub.status.idle": "2022-01-23T09:50:13.010559Z"
        },
        "trusted": true,
        "colab": {
          "base_uri": "https://localhost:8080/",
          "height": 412
        },
        "id": "wcUyaDvdcppG",
        "outputId": "7a850e89-405d-463c-b89a-f2509303a828"
      },
      "execution_count": 32,
      "outputs": [
        {
          "output_type": "display_data",
          "data": {
            "text/plain": [
              "   cluster gender age    friends\n",
              "1  3       M      18.982   7    \n",
              "2  5       F      18.801   0    \n",
              "3  3       M      18.335  69    \n",
              "4  3       F      18.875   0    \n",
              "5  4       NA     18.995  10    \n",
              "6  5       F          NA 142    \n",
              "7  1       F      18.930  72    \n",
              "8  3       M      18.322  17    \n",
              "9  3       F      19.055  52    \n",
              "10 5       F      18.708  39    "
            ],
            "text/latex": "A data.frame: 10 × 4\n\\begin{tabular}{r|llll}\n  & cluster & gender & age & friends\\\\\n  & <int> & <chr> & <dbl> & <int>\\\\\n\\hline\n\t1 & 3 & M  & 18.982 &   7\\\\\n\t2 & 5 & F  & 18.801 &   0\\\\\n\t3 & 3 & M  & 18.335 &  69\\\\\n\t4 & 3 & F  & 18.875 &   0\\\\\n\t5 & 4 & NA & 18.995 &  10\\\\\n\t6 & 5 & F  &     NA & 142\\\\\n\t7 & 1 & F  & 18.930 &  72\\\\\n\t8 & 3 & M  & 18.322 &  17\\\\\n\t9 & 3 & F  & 19.055 &  52\\\\\n\t10 & 5 & F  & 18.708 &  39\\\\\n\\end{tabular}\n",
            "text/markdown": "\nA data.frame: 10 × 4\n\n| <!--/--> | cluster &lt;int&gt; | gender &lt;chr&gt; | age &lt;dbl&gt; | friends &lt;int&gt; |\n|---|---|---|---|---|\n| 1 | 3 | M  | 18.982 |   7 |\n| 2 | 5 | F  | 18.801 |   0 |\n| 3 | 3 | M  | 18.335 |  69 |\n| 4 | 3 | F  | 18.875 |   0 |\n| 5 | 4 | NA | 18.995 |  10 |\n| 6 | 5 | F  |     NA | 142 |\n| 7 | 1 | F  | 18.930 |  72 |\n| 8 | 3 | M  | 18.322 |  17 |\n| 9 | 3 | F  | 19.055 |  52 |\n| 10 | 5 | F  | 18.708 |  39 |\n\n",
            "text/html": [
              "<table class=\"dataframe\">\n",
              "<caption>A data.frame: 10 × 4</caption>\n",
              "<thead>\n",
              "\t<tr><th></th><th scope=col>cluster</th><th scope=col>gender</th><th scope=col>age</th><th scope=col>friends</th></tr>\n",
              "\t<tr><th></th><th scope=col>&lt;int&gt;</th><th scope=col>&lt;chr&gt;</th><th scope=col>&lt;dbl&gt;</th><th scope=col>&lt;int&gt;</th></tr>\n",
              "</thead>\n",
              "<tbody>\n",
              "\t<tr><th scope=row>1</th><td>3</td><td>M </td><td>18.982</td><td>  7</td></tr>\n",
              "\t<tr><th scope=row>2</th><td>5</td><td>F </td><td>18.801</td><td>  0</td></tr>\n",
              "\t<tr><th scope=row>3</th><td>3</td><td>M </td><td>18.335</td><td> 69</td></tr>\n",
              "\t<tr><th scope=row>4</th><td>3</td><td>F </td><td>18.875</td><td>  0</td></tr>\n",
              "\t<tr><th scope=row>5</th><td>4</td><td>NA</td><td>18.995</td><td> 10</td></tr>\n",
              "\t<tr><th scope=row>6</th><td>5</td><td>F </td><td>    NA</td><td>142</td></tr>\n",
              "\t<tr><th scope=row>7</th><td>1</td><td>F </td><td>18.930</td><td> 72</td></tr>\n",
              "\t<tr><th scope=row>8</th><td>3</td><td>M </td><td>18.322</td><td> 17</td></tr>\n",
              "\t<tr><th scope=row>9</th><td>3</td><td>F </td><td>19.055</td><td> 52</td></tr>\n",
              "\t<tr><th scope=row>10</th><td>5</td><td>F </td><td>18.708</td><td> 39</td></tr>\n",
              "</tbody>\n",
              "</table>\n"
            ]
          },
          "metadata": {}
        }
      ]
    },
    {
      "cell_type": "code",
      "source": [
        "#Getting the average of the 5 clusters\n",
        "aggregate(data = sns_data, age~cluster, mean)"
      ],
      "metadata": {
        "execution": {
          "iopub.status.busy": "2022-01-23T09:58:00.892691Z",
          "iopub.execute_input": "2022-01-23T09:58:00.894574Z",
          "iopub.status.idle": "2022-01-23T09:58:00.945080Z"
        },
        "trusted": true,
        "colab": {
          "base_uri": "https://localhost:8080/",
          "height": 255
        },
        "id": "_yD3omclcppI",
        "outputId": "89bade29-b4ce-4745-a4d4-679ee49cb101"
      },
      "execution_count": 33,
      "outputs": [
        {
          "output_type": "display_data",
          "data": {
            "text/plain": [
              "  cluster age     \n",
              "1 1       16.90690\n",
              "2 2       17.07023\n",
              "3 3       17.31210\n",
              "4 4       17.14594\n",
              "5 5       17.19468"
            ],
            "text/latex": "A data.frame: 5 × 2\n\\begin{tabular}{ll}\n cluster & age\\\\\n <int> & <dbl>\\\\\n\\hline\n\t 1 & 16.90690\\\\\n\t 2 & 17.07023\\\\\n\t 3 & 17.31210\\\\\n\t 4 & 17.14594\\\\\n\t 5 & 17.19468\\\\\n\\end{tabular}\n",
            "text/markdown": "\nA data.frame: 5 × 2\n\n| cluster &lt;int&gt; | age &lt;dbl&gt; |\n|---|---|\n| 1 | 16.90690 |\n| 2 | 17.07023 |\n| 3 | 17.31210 |\n| 4 | 17.14594 |\n| 5 | 17.19468 |\n\n",
            "text/html": [
              "<table class=\"dataframe\">\n",
              "<caption>A data.frame: 5 × 2</caption>\n",
              "<thead>\n",
              "\t<tr><th scope=col>cluster</th><th scope=col>age</th></tr>\n",
              "\t<tr><th scope=col>&lt;int&gt;</th><th scope=col>&lt;dbl&gt;</th></tr>\n",
              "</thead>\n",
              "<tbody>\n",
              "\t<tr><td>1</td><td>16.90690</td></tr>\n",
              "\t<tr><td>2</td><td>17.07023</td></tr>\n",
              "\t<tr><td>3</td><td>17.31210</td></tr>\n",
              "\t<tr><td>4</td><td>17.14594</td></tr>\n",
              "\t<tr><td>5</td><td>17.19468</td></tr>\n",
              "</tbody>\n",
              "</table>\n"
            ]
          },
          "metadata": {}
        }
      ]
    },
    {
      "cell_type": "code",
      "source": [
        "#Getting the proportion of females in the five cluster\n",
        "aggregate(data = sns_data, female~cluster, sum)"
      ],
      "metadata": {
        "execution": {
          "iopub.status.busy": "2022-01-23T10:01:48.544365Z",
          "iopub.execute_input": "2022-01-23T10:01:48.546062Z",
          "iopub.status.idle": "2022-01-23T10:01:48.592310Z"
        },
        "trusted": true,
        "colab": {
          "base_uri": "https://localhost:8080/",
          "height": 255
        },
        "id": "BZzC_al9cppJ",
        "outputId": "84c44971-09da-41ee-d323-bf245b2a2bed"
      },
      "execution_count": 34,
      "outputs": [
        {
          "output_type": "display_data",
          "data": {
            "text/plain": [
              "  cluster female\n",
              "1 1         726 \n",
              "2 2        1744 \n",
              "3 3       14395 \n",
              "4 4         789 \n",
              "5 5        4400 "
            ],
            "text/latex": "A data.frame: 5 × 2\n\\begin{tabular}{ll}\n cluster & female\\\\\n <int> & <dbl>\\\\\n\\hline\n\t 1 &   726\\\\\n\t 2 &  1744\\\\\n\t 3 & 14395\\\\\n\t 4 &   789\\\\\n\t 5 &  4400\\\\\n\\end{tabular}\n",
            "text/markdown": "\nA data.frame: 5 × 2\n\n| cluster &lt;int&gt; | female &lt;dbl&gt; |\n|---|---|\n| 1 |   726 |\n| 2 |  1744 |\n| 3 | 14395 |\n| 4 |   789 |\n| 5 |  4400 |\n\n",
            "text/html": [
              "<table class=\"dataframe\">\n",
              "<caption>A data.frame: 5 × 2</caption>\n",
              "<thead>\n",
              "\t<tr><th scope=col>cluster</th><th scope=col>female</th></tr>\n",
              "\t<tr><th scope=col>&lt;int&gt;</th><th scope=col>&lt;dbl&gt;</th></tr>\n",
              "</thead>\n",
              "<tbody>\n",
              "\t<tr><td>1</td><td>  726</td></tr>\n",
              "\t<tr><td>2</td><td> 1744</td></tr>\n",
              "\t<tr><td>3</td><td>14395</td></tr>\n",
              "\t<tr><td>4</td><td>  789</td></tr>\n",
              "\t<tr><td>5</td><td> 4400</td></tr>\n",
              "</tbody>\n",
              "</table>\n"
            ]
          },
          "metadata": {}
        }
      ]
    },
    {
      "cell_type": "code",
      "source": [
        "#Getting the average number of users' friends of the five clusters\n",
        "aggregate(data = sns_data, friends~cluster, mean)"
      ],
      "metadata": {
        "execution": {
          "iopub.status.busy": "2022-01-23T10:04:45.150855Z",
          "iopub.execute_input": "2022-01-23T10:04:45.152668Z",
          "iopub.status.idle": "2022-01-23T10:04:45.202508Z"
        },
        "trusted": true,
        "colab": {
          "base_uri": "https://localhost:8080/",
          "height": 255
        },
        "id": "mcSc0xN9cppK",
        "outputId": "e993cece-9f9e-46be-de5d-c7b130ab16d9"
      },
      "execution_count": 35,
      "outputs": [
        {
          "output_type": "display_data",
          "data": {
            "text/plain": [
              "  cluster friends \n",
              "1 1       41.27419\n",
              "2 2       35.47776\n",
              "3 3       27.54394\n",
              "4 4       30.65619\n",
              "5 5       36.21349"
            ],
            "text/latex": "A data.frame: 5 × 2\n\\begin{tabular}{ll}\n cluster & friends\\\\\n <int> & <dbl>\\\\\n\\hline\n\t 1 & 41.27419\\\\\n\t 2 & 35.47776\\\\\n\t 3 & 27.54394\\\\\n\t 4 & 30.65619\\\\\n\t 5 & 36.21349\\\\\n\\end{tabular}\n",
            "text/markdown": "\nA data.frame: 5 × 2\n\n| cluster &lt;int&gt; | friends &lt;dbl&gt; |\n|---|---|\n| 1 | 41.27419 |\n| 2 | 35.47776 |\n| 3 | 27.54394 |\n| 4 | 30.65619 |\n| 5 | 36.21349 |\n\n",
            "text/html": [
              "<table class=\"dataframe\">\n",
              "<caption>A data.frame: 5 × 2</caption>\n",
              "<thead>\n",
              "\t<tr><th scope=col>cluster</th><th scope=col>friends</th></tr>\n",
              "\t<tr><th scope=col>&lt;int&gt;</th><th scope=col>&lt;dbl&gt;</th></tr>\n",
              "</thead>\n",
              "<tbody>\n",
              "\t<tr><td>1</td><td>41.27419</td></tr>\n",
              "\t<tr><td>2</td><td>35.47776</td></tr>\n",
              "\t<tr><td>3</td><td>27.54394</td></tr>\n",
              "\t<tr><td>4</td><td>30.65619</td></tr>\n",
              "\t<tr><td>5</td><td>36.21349</td></tr>\n",
              "</tbody>\n",
              "</table>\n"
            ]
          },
          "metadata": {}
        }
      ]
    }
  ]
}